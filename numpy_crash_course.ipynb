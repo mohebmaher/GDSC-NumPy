{
 "cells": [
  {
   "cell_type": "markdown",
   "id": "ee419b3d-5279-47bd-8f38-97e11f538af7",
   "metadata": {},
   "source": [
    "# NumPy Basics"
   ]
  },
  {
   "cell_type": "markdown",
   "id": "d1c3add7-e2b3-4da5-9161-76a44d203a19",
   "metadata": {},
   "source": [
    "## Chapter Outline"
   ]
  },
  {
   "cell_type": "markdown",
   "id": "2f3b2d8d-f987-41bb-9cf2-40b60c1d16b2",
   "metadata": {},
   "source": [
    "- In this chapter, **you will learn about**:\n",
    "> - `ndarray`, an **efficient multidimensional array** providing fast array-oriented arithmetic operations,\n",
    "> - **Mathematical functions for fast operations** on entire arrays of data without having to write loops,\n",
    "> - **Other useful stuff** like random number generation, linear algebra and statistics."
   ]
  },
  {
   "cell_type": "markdown",
   "id": "70164c36-7e4c-455f-8f15-42916fbeb57e",
   "metadata": {},
   "source": [
    "- **Where can you get help?**\n",
    "> - **Follow along** with the code and **try it yourself**,\n",
    "> - **Search** for it,\n",
    "> - You can always **ask for help!**"
   ]
  },
  {
   "cell_type": "markdown",
   "id": "c6f78f98-b4be-4f53-962c-841666cb3a60",
   "metadata": {},
   "source": [
    "## What is NumPy?"
   ]
  },
  {
   "cell_type": "markdown",
   "id": "4e244598-dec1-4d16-8381-b145ee310601",
   "metadata": {},
   "source": [
    "- A **third-party** package,\n",
    "- Short for **Numerical Python**,\n",
    "- In 2005, **Travis Oliphant was able to forge the NumPy project** from the then Numeric and Numarray projects into a single array computing framework,\n",
    "- One of the most important foundational packages for **numerical computing** in Python,\n",
    "- Much of the knowledge about NumPy that we will cover is **transferable to Pandas** as well."
   ]
  },
  {
   "cell_type": "markdown",
   "id": "ac50072e-da32-45a3-81a6-a080ba2ebe12",
   "metadata": {},
   "source": [
    "## Python Lists Vs NumPy Arrays"
   ]
  },
  {
   "cell_type": "markdown",
   "id": "2c40c38c-becd-4c0d-a0eb-f11071bcb808",
   "metadata": {},
   "source": [
    "- One of the reasons NumPy is so important for numerical computations in Python is because **it is designed for efficiency on large arrays of data**:\n",
    "> - NumPy internally **stores data in a contiguous block of memory**, independent of other built-in Python objects,\n",
    "> - NumPy **performs complex computations on entire arrays** without the need for Python for loops."
   ]
  },
  {
   "cell_type": "markdown",
   "id": "8afba92b-087e-4624-8783-788b9a9a04e8",
   "metadata": {},
   "source": [
    "- To give you an idea of the **performance difference**, consider a Python list of one million integers, and the equivalent NumPy array:"
   ]
  },
  {
   "cell_type": "code",
   "execution_count": null,
   "id": "b2365d51-d125-41fb-be37-d6fc748db43c",
   "metadata": {},
   "outputs": [],
   "source": [
    "py_list = list(range(1_000_000))\n",
    "len(py_list)"
   ]
  },
  {
   "cell_type": "code",
   "execution_count": null,
   "id": "016c839d-e28e-4840-baa7-0d8b9a28f3be",
   "metadata": {},
   "outputs": [],
   "source": [
    "import numpy as np\n",
    "np_arr = np.array(range(1_000_000))\n",
    "len(np_arr)"
   ]
  },
  {
   "cell_type": "markdown",
   "id": "220fa0f8-60ad-4530-ab02-e049400ebbe9",
   "metadata": {},
   "source": [
    "- Now let’s multiply each sequence by 2:"
   ]
  },
  {
   "cell_type": "code",
   "execution_count": null,
   "id": "e75078ad-82e3-4c44-860c-fb1097f2a2f3",
   "metadata": {},
   "outputs": [],
   "source": [
    "%%time\n",
    "result1 = [x * 2 for x in py_list]"
   ]
  },
  {
   "cell_type": "code",
   "execution_count": null,
   "id": "77fb7d55-c664-429b-aa8f-ab0ca4649077",
   "metadata": {},
   "outputs": [],
   "source": [
    "%%time\n",
    "result2 = np_arr * 2"
   ]
  },
  {
   "cell_type": "markdown",
   "id": "fb9ae811-91cf-464a-a4e3-76d745f29991",
   "metadata": {},
   "source": [
    "- NumPy-based algorithms are generally **10 to 100 times faster (or more)** than their pure Python counterparts and use significantly less memory."
   ]
  },
  {
   "cell_type": "markdown",
   "id": "a0659cd4-6363-4466-986f-e9050cedf7fc",
   "metadata": {},
   "source": [
    "## Working with NumPy arrays"
   ]
  },
  {
   "cell_type": "markdown",
   "id": "85fd8065-1e20-4b82-88aa-d507342bb842",
   "metadata": {},
   "source": [
    "### The NumPy ndarray"
   ]
  },
  {
   "cell_type": "markdown",
   "id": "606b8863-c351-4850-935a-114f7c903ff9",
   "metadata": {},
   "source": [
    "#### Getting started with `numpy`"
   ]
  },
  {
   "attachments": {},
   "cell_type": "markdown",
   "id": "1a9453dd-9fd4-4558-8516-fa33cffd5523",
   "metadata": {},
   "source": [
    "- To get started using **NumPy**, the first step is to **import it**.\r",
    "- \n",
    "The most common way (and method you should use) is to** import NumPy as an abbreviatio**n\r\n",
    "\r\n"
   ]
  },
  {
   "cell_type": "code",
   "execution_count": null,
   "id": "bdb6037e-2c1e-4a0c-ba8f-6a43110e086b",
   "metadata": {},
   "outputs": [],
   "source": [
    "import numpy as np"
   ]
  },
  {
   "cell_type": "code",
   "execution_count": null,
   "id": "77e5db80-0913-4d0c-b7b5-4a7b29e6a0e5",
   "metadata": {},
   "outputs": [],
   "source": [
    "# Check the version:\n",
    "print(np.__version__)"
   ]
  },
  {
   "cell_type": "markdown",
   "id": "e9260b3e-f4a1-4788-a5f3-48ff2ce42f4e",
   "metadata": {},
   "source": [
    "- It is important to remember that **the main data type in NumPy is `ndarray`**, even seemingly different kinds of arrays are **still `ndarray`'s**.\n",
    "- An ndarray is a **generic multidimensional container for homogeneous data** (that is, all of the elements must be the same type):"
   ]
  },
  {
   "cell_type": "code",
   "execution_count": null,
   "id": "0f687f59-f097-49ce-bce9-2bbf93c075b9",
   "metadata": {},
   "outputs": [],
   "source": [
    "# 1-dimensonal array, also referred to as a vector:\n",
    "a1 = np.array([1, 2, 3])\n",
    "a1"
   ]
  },
  {
   "cell_type": "code",
   "execution_count": null,
   "id": "85b9ee6b-cecd-42c1-9581-f0d26b2e6685",
   "metadata": {},
   "outputs": [],
   "source": [
    "# 2-dimensional array, also referred to as matrix\n",
    "a2 = np.array([[1, 2.0, 3.3],\n",
    "               [4, 5, 6.5]])\n",
    "a2"
   ]
  },
  {
   "cell_type": "code",
   "execution_count": null,
   "id": "63d93813-205c-40f2-b526-4a25b7c103bb",
   "metadata": {},
   "outputs": [],
   "source": [
    "# 3-dimensional array, also referred to as a matrix\n",
    "a3 = np.array([[[1, 2, 3],\n",
    "                [4, 5, 6],\n",
    "                [7, 8, 9]],\n",
    "                [[10, 11, 12],\n",
    "                 [13, 14, 15],\n",
    "                 [16, 17, 18]]])\n",
    "a3"
   ]
  },
  {
   "cell_type": "markdown",
   "id": "aa746383-1169-4623-9b90-5d5147a44094",
   "metadata": {},
   "source": [
    "#### Anatomy of a NumPy Array"
   ]
  },
  {
   "attachments": {
    "3bc9e2e6-da3d-434b-b517-5696485ab191.png": {
     "image/png": "[encoded data removed]"
    }
   },
   "cell_type": "markdown",
   "id": "6ee13fb8-9cf2-4854-81d9-fc27fc61d348",
   "metadata": {},
   "source": [
    "![image.png](attachment:3bc9e2e6-da3d-434b-b517-5696485ab191.png)"
   ]
  },
  {
   "attachments": {},
   "cell_type": "markdown",
   "id": "3131557c-c320-487b-ba16-e4bb7d8bcd5b",
   "metadata": {},
   "source": [
    "- The **main attributes** of an ndarray are shape, number of dims, data type and size:\n"
   ]
  },
  {
   "cell_type": "code",
   "execution_count": null,
   "id": "70512afc-8b67-4349-9583-c117c5b6307d",
   "metadata": {},
   "outputs": [],
   "source": [
    "print(type(a1))\n",
    "print(a1.size)\n",
    "print(a1.shape)\n",
    "print(a1.ndim)\n",
    "print(a1.dtype)"
   ]
  },
  {
   "cell_type": "code",
   "execution_count": null,
   "id": "e56d420e-e1b4-4f18-ad07-b13db6cb5708",
   "metadata": {},
   "outputs": [],
   "source": [
    "print(type(a2))\n",
    "print(a2.size)\n",
    "print(a2.shape)\n",
    "print(a2.ndim)\n",
    "print(a2.dtype)"
   ]
  },
  {
   "cell_type": "code",
   "execution_count": null,
   "id": "c9824caa-1aa8-4198-a294-38c36b176480",
   "metadata": {},
   "outputs": [],
   "source": [
    "print(type(a3))\n",
    "print(a3.size)\n",
    "print(a3.shape)\n",
    "print(a3.ndim)\n",
    "print(a3.dtype)"
   ]
  },
  {
   "cell_type": "markdown",
   "id": "a96511e2-3045-49f3-b072-b29dae80cd4a",
   "metadata": {},
   "source": [
    "#### Creating NumPy Arrays"
   ]
  },
  {
   "cell_type": "markdown",
   "id": "17fdcf9a-7cc7-4cff-b3b9-d71d98ae94e3",
   "metadata": {},
   "source": [
    "- The easiest way to create an array is to **use the array function**, this accepts any **sequence-like object** (including other arrays) and produces a new NumPy array containing the passed data:"
   ]
  },
  {
   "cell_type": "code",
   "execution_count": null,
   "id": "f2ea37a9-69d4-4255-a47a-2af3ab222359",
   "metadata": {},
   "outputs": [],
   "source": [
    "py_list = [1, 2, 3]\n",
    "np_arr = np.array(py_list)\n",
    "np_arr"
   ]
  },
  {
   "cell_type": "markdown",
   "id": "ff087b29-6e27-4429-a2a6-410e13521205",
   "metadata": {},
   "source": [
    "- Also, there are a number of **other functions for creating new arrays**:"
   ]
  },
  {
   "cell_type": "code",
   "execution_count": null,
   "id": "0eb9267b-1efd-4e2c-a65f-447541b2a9c6",
   "metadata": {},
   "outputs": [],
   "source": [
    "zeros_arr = np.zeros(shape=(2, 2))\n",
    "zeros_arr"
   ]
  },
  {
   "cell_type": "code",
   "execution_count": null,
   "id": "5ec0aa23-233f-48c1-9ce1-22af6e890e1c",
   "metadata": {},
   "outputs": [],
   "source": [
    "ones_arr = np.ones(shape=(2, 2))\n",
    "ones_arr"
   ]
  },
  {
   "cell_type": "code",
   "execution_count": null,
   "id": "62c4a004-55a8-4b95-8d6a-52cb6065b8d5",
   "metadata": {},
   "outputs": [],
   "source": [
    "ones_arr.dtype"
   ]
  },
  {
   "cell_type": "code",
   "execution_count": null,
   "id": "cd54fcd5-2670-4e7a-8f6f-c5bcf6fb334d",
   "metadata": {},
   "outputs": [],
   "source": [
    "ones_arr = ones_arr.astype(int)\n",
    "ones_arr.dtype"
   ]
  },
  {
   "cell_type": "code",
   "execution_count": null,
   "id": "0515525e-d658-4f3b-934c-e3e4ac0a8391",
   "metadata": {},
   "outputs": [],
   "source": [
    "full_arr = np.full(shape=(2, 2), fill_value=2)\n",
    "full_arr"
   ]
  },
  {
   "cell_type": "code",
   "execution_count": null,
   "id": "2b6e36ab-0498-4b32-92ca-6897e5f750b1",
   "metadata": {},
   "outputs": [],
   "source": [
    "empty_arr = np.empty(shape=(2, 2))\n",
    "empty_arr # It’s not safe to assume that numpy.empty will return an array of all zeros."
   ]
  },
  {
   "cell_type": "code",
   "execution_count": null,
   "id": "a15ba437-b2e9-4cdc-a998-8b80a495f66f",
   "metadata": {},
   "outputs": [],
   "source": [
    "id_arr = np.identity(n=3)\n",
    "id_arr"
   ]
  },
  {
   "cell_type": "code",
   "execution_count": null,
   "id": "bcdcb709-ee46-4dbb-bb04-b2a74a052f19",
   "metadata": {},
   "outputs": [],
   "source": [
    "zeros_like_arr = np.zeros_like(py_list)\n",
    "zeros_like_arr"
   ]
  },
  {
   "cell_type": "code",
   "execution_count": null,
   "id": "9e94b6f8-4109-4e65-a0ee-7f49f95766ff",
   "metadata": {},
   "outputs": [],
   "source": [
    "arange_arr = np.arange(1, 10, 1)\n",
    "arange_arr"
   ]
  },
  {
   "cell_type": "code",
   "execution_count": null,
   "id": "2447ef72-af16-434b-b54c-944c3f4995c6",
   "metadata": {},
   "outputs": [],
   "source": [
    "equally_spaced_nums_arr = np.linspace(1, 10, 10)\n",
    "equally_spaced_nums_arr"
   ]
  },
  {
   "cell_type": "markdown",
   "id": "9722877e-3ab6-4930-9404-d4a020e72698",
   "metadata": {},
   "source": [
    "- The NumPy `random` module supplements the **built-in Python random module** with functions for efficiently generating whole arrays of sample values from many kinds of probability distributions:"
   ]
  },
  {
   "cell_type": "code",
   "execution_count": null,
   "id": "9a3bc195-02e4-4c7e-9169-af350fb302e8",
   "metadata": {},
   "outputs": [],
   "source": [
    "rng = np.random.default_rng(seed=42)"
   ]
  },
  {
   "cell_type": "code",
   "execution_count": null,
   "id": "43014126-ce2b-4468-bfce-e6a86bd19887",
   "metadata": {},
   "outputs": [],
   "source": [
    "int_arr = rng.integers(low=1, high=10, size=5)\n",
    "int_arr"
   ]
  },
  {
   "cell_type": "code",
   "execution_count": null,
   "id": "8a06e59f-93d4-4190-a578-8dfff3002a7f",
   "metadata": {},
   "outputs": [],
   "source": [
    "float_arr = rng.random(size=5)\n",
    "float_arr"
   ]
  },
  {
   "cell_type": "markdown",
   "id": "a606474b-02cf-4b98-8932-8c7ca7260374",
   "metadata": {},
   "source": [
    "### Filtering and Reshaping NumPy Arrays"
   ]
  },
  {
   "cell_type": "markdown",
   "id": "55f13fd7-9199-4e91-9e9e-d83bd373ad14",
   "metadata": {},
   "source": [
    "#### Basic Indexing and Slicing"
   ]
  },
  {
   "cell_type": "markdown",
   "id": "92b40e1b-6961-4f4c-8ced-8f9c5d40b1c9",
   "metadata": {},
   "source": [
    "##### Basic Indexing"
   ]
  },
  {
   "cell_type": "markdown",
   "id": "45b38dad-128a-4d11-b6a0-75efcda56f22",
   "metadata": {},
   "source": [
    "- One-dimensional arrays are simple; on the surface they **act similarly to Python lists**:"
   ]
  },
  {
   "cell_type": "code",
   "execution_count": null,
   "id": "51e35194-15e6-4b0b-a72c-979dbd19d7ca",
   "metadata": {},
   "outputs": [],
   "source": [
    "a1 = np.arange(10)\n",
    "a1"
   ]
  },
  {
   "cell_type": "code",
   "execution_count": null,
   "id": "3c02ebe9-f957-4cf8-ba51-79f6b0648985",
   "metadata": {},
   "outputs": [],
   "source": [
    "idx = a1[5]\n",
    "idx"
   ]
  },
  {
   "cell_type": "markdown",
   "id": "6d997e26-29a7-4d23-b2a2-c19edf65259e",
   "metadata": {},
   "source": [
    "- An important first distinction from Python’s built-in lists is that **array slices are views on the original array**:"
   ]
  },
  {
   "cell_type": "code",
   "execution_count": null,
   "id": "7d097d9a-5fe9-46bb-b55c-986952a337c4",
   "metadata": {},
   "outputs": [],
   "source": [
    "slice = a1[5:8]\n",
    "slice"
   ]
  },
  {
   "cell_type": "code",
   "execution_count": null,
   "id": "0e99424a-2371-47ed-ad5c-7baa6311514d",
   "metadata": {},
   "outputs": [],
   "source": [
    "slice[1] = 0\n",
    "slice"
   ]
  },
  {
   "cell_type": "code",
   "execution_count": null,
   "id": "8be19997-88eb-4167-8679-3011d0224ba8",
   "metadata": {},
   "outputs": [],
   "source": [
    "a1"
   ]
  },
  {
   "cell_type": "markdown",
   "id": "cb0344fa-8842-4a1e-86d0-f1d7d84f83ff",
   "metadata": {},
   "source": [
    "- If you want a copy of a slice of an ndarray instead of a view, **you will need to explicitly copy the array**:"
   ]
  },
  {
   "cell_type": "code",
   "execution_count": null,
   "id": "32237b70-485c-49b9-a75c-98963f220287",
   "metadata": {},
   "outputs": [],
   "source": [
    "a1 = np.arange(10)\n",
    "a1"
   ]
  },
  {
   "cell_type": "code",
   "execution_count": null,
   "id": "2514e43b-e15f-4cd2-ba86-03afb031769f",
   "metadata": {},
   "outputs": [],
   "source": [
    "slice = a1[5:8].copy()\n",
    "slice[1] = 0\n",
    "slice"
   ]
  },
  {
   "cell_type": "code",
   "execution_count": null,
   "id": "f6f3e262-0a00-4fc8-858c-9f4df0fe9fa2",
   "metadata": {},
   "outputs": [],
   "source": [
    "a1"
   ]
  },
  {
   "cell_type": "markdown",
   "id": "cad23ad9-475e-4bac-92d5-cd354b318a5c",
   "metadata": {},
   "source": [
    "- In a two-dimensional array, **the elements at each index are no longer scalars but rather one-dimensional arrays**:"
   ]
  },
  {
   "cell_type": "code",
   "execution_count": null,
   "id": "1216eb9c-1dd0-40a8-b093-102df8bcc77a",
   "metadata": {},
   "outputs": [],
   "source": [
    "a2 = np.array([[1, 2, 3],\n",
    "               [4, 5, 6],\n",
    "               [7, 8, 9]])\n",
    "a2"
   ]
  },
  {
   "cell_type": "code",
   "execution_count": null,
   "id": "b97cae81-4d72-4ebc-835e-afd64e679c28",
   "metadata": {},
   "outputs": [],
   "source": [
    "a2.shape"
   ]
  },
  {
   "cell_type": "code",
   "execution_count": null,
   "id": "52660f1d-793f-40c7-ae39-47a53aed9550",
   "metadata": {},
   "outputs": [],
   "source": [
    "a2[1]"
   ]
  },
  {
   "cell_type": "code",
   "execution_count": null,
   "id": "2ed2d607-353e-4c2d-9be0-d484e1724ce8",
   "metadata": {},
   "outputs": [],
   "source": [
    "a2[1].shape"
   ]
  },
  {
   "cell_type": "markdown",
   "id": "ce3d58bd-5b09-4647-baf1-987e616b0c97",
   "metadata": {},
   "source": [
    "- Individual elements can be **accessed recursively**:"
   ]
  },
  {
   "cell_type": "code",
   "execution_count": null,
   "id": "25af4746-5a44-4eb9-b502-00b1820b8788",
   "metadata": {},
   "outputs": [],
   "source": [
    "a2[1][1]"
   ]
  },
  {
   "cell_type": "code",
   "execution_count": null,
   "id": "7e9b64a5-465a-4179-8f74-f966fbe4ab02",
   "metadata": {},
   "outputs": [],
   "source": [
    "a2[1][1].shape"
   ]
  },
  {
   "cell_type": "markdown",
   "id": "cb58d459-9010-490c-9055-36ac45eede11",
   "metadata": {},
   "source": [
    "- You can pass a **comma-separated list of indices** to select individual elements:"
   ]
  },
  {
   "cell_type": "code",
   "execution_count": null,
   "id": "673861aa-b644-4ac0-8a9d-a1755efe875f",
   "metadata": {},
   "outputs": [],
   "source": [
    "a2[1, 1]"
   ]
  },
  {
   "cell_type": "code",
   "execution_count": null,
   "id": "86443560-6a69-4ed8-9293-808925184cb6",
   "metadata": {},
   "outputs": [],
   "source": [
    "a2[1, 1].shape"
   ]
  },
  {
   "cell_type": "markdown",
   "id": "3be4920e-e436-4631-b2db-0fa47e4265d5",
   "metadata": {},
   "source": [
    "- In multidimensional arrays, **if you omit later indices, the returned object will be a lower dimensional ndarray** consisting of all the data along the higher dimensions:"
   ]
  },
  {
   "cell_type": "code",
   "execution_count": null,
   "id": "c4843d3a-a2af-44cc-9c9c-fe417a0dc774",
   "metadata": {},
   "outputs": [],
   "source": [
    "a3 = np.array([[[ 1, 2, 3],\n",
    "                [ 4, 5, 6]],\n",
    "               [[ 7, 8, 9],\n",
    "                [10, 11, 12]]])\n",
    "a3"
   ]
  },
  {
   "cell_type": "code",
   "execution_count": null,
   "id": "e00670da-6b9d-413b-a39e-5f3b10a22e83",
   "metadata": {},
   "outputs": [],
   "source": [
    "a3[0]"
   ]
  },
  {
   "cell_type": "code",
   "execution_count": null,
   "id": "2e52aa5c-fdf7-4545-96f0-bc47d5bc9a1f",
   "metadata": {},
   "outputs": [],
   "source": [
    "a3[0].shape"
   ]
  },
  {
   "cell_type": "code",
   "execution_count": null,
   "id": "f8ccf636-527f-4bdc-87b4-142ab253dbe0",
   "metadata": {},
   "outputs": [],
   "source": [
    "a3[0, 0]"
   ]
  },
  {
   "cell_type": "code",
   "execution_count": null,
   "id": "9b74a76b-9e6d-44f7-82d9-ad70828ca7c6",
   "metadata": {},
   "outputs": [],
   "source": [
    "a3[0, 0].shape"
   ]
  },
  {
   "cell_type": "markdown",
   "id": "ff536048-70b8-43ef-b2a9-60684b1416f5",
   "metadata": {},
   "source": [
    "##### Indexing with slices"
   ]
  },
  {
   "cell_type": "markdown",
   "id": "e72ef940-a5fd-43f5-9a37-5e6fcb362f34",
   "metadata": {},
   "source": [
    "- Like one-dimensional objects such as Python lists, **ndarrays can be sliced with the familiar syntax**:"
   ]
  },
  {
   "cell_type": "code",
   "execution_count": null,
   "id": "a7d0a817-5b81-4040-b7f8-aa933132ba48",
   "metadata": {},
   "outputs": [],
   "source": [
    "a1"
   ]
  },
  {
   "cell_type": "code",
   "execution_count": null,
   "id": "389edefa-f8ac-4e6a-adb7-4736eb1591cd",
   "metadata": {},
   "outputs": [],
   "source": [
    "a1[1:6]"
   ]
  },
  {
   "cell_type": "markdown",
   "id": "9462c1dd-36f3-4600-84dc-88d9f5d38ea1",
   "metadata": {},
   "source": [
    "- Consider the **two-dimensional array** from before, slicing this array is a bit different:"
   ]
  },
  {
   "cell_type": "code",
   "execution_count": null,
   "id": "ac3a60e0-a8d1-4d0c-95b7-557346f74260",
   "metadata": {},
   "outputs": [],
   "source": [
    "a2"
   ]
  },
  {
   "cell_type": "code",
   "execution_count": null,
   "id": "2a71570c-0d2f-4e69-94fa-d62f732b2b11",
   "metadata": {},
   "outputs": [],
   "source": [
    "a2[:2]"
   ]
  },
  {
   "cell_type": "markdown",
   "id": "299544ac-036b-4487-a573-336cd60d7980",
   "metadata": {},
   "source": [
    "- You can pass **multiple slices** just like you can pass multiple indexes:"
   ]
  },
  {
   "cell_type": "code",
   "execution_count": null,
   "id": "6e24d2ca-570c-4838-87fb-70466965943a",
   "metadata": {},
   "outputs": [],
   "source": [
    "a2[:2, 1:]"
   ]
  },
  {
   "cell_type": "markdown",
   "id": "405562b4-f612-449d-a720-16ae6bedff12",
   "metadata": {},
   "source": [
    "- By **mixing integer indexes and slices**, you get **lower dimensional** slices:"
   ]
  },
  {
   "cell_type": "code",
   "execution_count": null,
   "id": "248118cd-41da-4bbb-bc5b-8528382b2639",
   "metadata": {},
   "outputs": [],
   "source": [
    "a2[:2, 1]"
   ]
  },
  {
   "cell_type": "code",
   "execution_count": null,
   "id": "9bc105ae-3089-405b-8205-7ea16c65a78a",
   "metadata": {},
   "outputs": [],
   "source": [
    "a2[:2, 1].shape"
   ]
  },
  {
   "cell_type": "markdown",
   "id": "0e7d93f4-4a5f-4829-b118-44b7e8eb57fb",
   "metadata": {},
   "source": [
    "- See this **figure** for an illustration:"
   ]
  },
  {
   "attachments": {
    "085845f3-b29d-4c2a-b075-0c190a484b2c.png": {
     "image/png": "[encoded data removed]"
    }
   },
   "cell_type": "markdown",
   "id": "7ceb2e7d-9ed5-41be-b4d5-994ad6387574",
   "metadata": {},
   "source": [
    "![image.png](attachment:085845f3-b29d-4c2a-b075-0c190a484b2c.png)"
   ]
  },
  {
   "cell_type": "markdown",
   "id": "b095dc8c-a9ef-4ad5-bfb3-7290b36bd31a",
   "metadata": {},
   "source": [
    "#### Boolean Indexing"
   ]
  },
  {
   "cell_type": "markdown",
   "id": "2794b1b4-3918-475a-b387-953177d35c85",
   "metadata": {},
   "source": [
    "- **What is Boolean indexing (masking)?**\n",
    "  > - Boolean indexing involves **using boolean arrays** to index or filter data in NumPy arrays,\n",
    "  > - A Boolean array is created **by applying a condition to an existing array**, resulting in a new array of `True` and `False` values\n",
    "  > - The Boolean array is then **used as an index** to select elements from the original array."
   ]
  },
  {
   "cell_type": "markdown",
   "id": "74bf19e3-0809-49c4-b8a5-da87844b7225",
   "metadata": {},
   "source": [
    "- Let’s consider an example where we have some **data** in an array and an array of **names** with duplicates:"
   ]
  },
  {
   "cell_type": "code",
   "execution_count": null,
   "id": "d76663e0-daa1-4750-bf5f-c895b38b5234",
   "metadata": {},
   "outputs": [],
   "source": [
    "names = np.array([\"Bob\", \"Joe\", \"Will\", \"Bob\", \"Will\", \"Joe\", \"Joe\"])\n",
    "names"
   ]
  },
  {
   "cell_type": "code",
   "execution_count": null,
   "id": "f03b7f1e-99ba-42d5-87dd-5338bfdbdb2e",
   "metadata": {},
   "outputs": [],
   "source": [
    "data = np.array([[4, 7],\n",
    "                 [0, 2],\n",
    "                 [-5, 6],\n",
    "                 [0, 0],\n",
    "                 [1, 2],\n",
    "                 [-12, -4],\n",
    "                 [3, 4]])\n",
    "data"
   ]
  },
  {
   "cell_type": "markdown",
   "id": "3ef80152-d0a4-4f13-aca8-ccf998f058ae",
   "metadata": {},
   "source": [
    "- Suppose each name corresponds to a row in the data array and we wanted to **select all the rows with the corresponding name \"Bob\"**:"
   ]
  },
  {
   "cell_type": "code",
   "execution_count": null,
   "id": "1948e446-40f1-499f-93d2-c80a26a1fa85",
   "metadata": {},
   "outputs": [],
   "source": [
    "names == 'Bob'"
   ]
  },
  {
   "cell_type": "markdown",
   "id": "f9bac4ca-90a7-4aea-838b-940bf0fc05a4",
   "metadata": {},
   "source": [
    "- This Boolean array **can be passed when indexing the array**:"
   ]
  },
  {
   "cell_type": "code",
   "execution_count": null,
   "id": "f87de856-01fa-4705-8038-eba56adbdfe7",
   "metadata": {},
   "outputs": [],
   "source": [
    "data[names == 'Bob']"
   ]
  },
  {
   "cell_type": "markdown",
   "id": "a7209fd1-d6a2-47a5-acde-287ab0dc85d9",
   "metadata": {},
   "source": [
    "- You can even **mix and match Boolean arrays with slices or integers**:"
   ]
  },
  {
   "cell_type": "code",
   "execution_count": null,
   "id": "bfbf89b0-be37-4698-8d3b-93d86f04d523",
   "metadata": {},
   "outputs": [],
   "source": [
    "data[names == 'Bob', 1:]"
   ]
  },
  {
   "cell_type": "markdown",
   "id": "9671231d-adae-41c1-bf33-20c1b53cd2e6",
   "metadata": {},
   "source": [
    "- To **select everything but \"Bob\"** you can either **use `!=` or negate the condition using `~`**:"
   ]
  },
  {
   "cell_type": "code",
   "execution_count": null,
   "id": "0c4daa79-a837-47c6-8faf-72f68aab4bc7",
   "metadata": {},
   "outputs": [],
   "source": [
    "data[names != 'Bob']"
   ]
  },
  {
   "cell_type": "code",
   "execution_count": null,
   "id": "7dde5e52-e2e0-486c-a6c0-5c4bfd9343db",
   "metadata": {},
   "outputs": [],
   "source": [
    "data[~(names == 'Bob')]"
   ]
  },
  {
   "cell_type": "markdown",
   "id": "ad387183-55ca-4e00-9a81-f32a99a2ede6",
   "metadata": {},
   "source": [
    "- To select two of the three names **to combine multiple Boolean conditions, use Boolean arithmetic operators** like `&` (and) and `|` (or):"
   ]
  },
  {
   "cell_type": "code",
   "execution_count": null,
   "id": "d32eaf2c-39ce-4f1d-bbc4-820c57fa06b5",
   "metadata": {},
   "outputs": [],
   "source": [
    "mask = (names == \"Bob\") | (names == \"Will\")\n",
    "mask"
   ]
  },
  {
   "cell_type": "code",
   "execution_count": null,
   "id": "36230be7-3296-40de-bc4f-c19743cec16b",
   "metadata": {},
   "outputs": [],
   "source": [
    "data[mask]"
   ]
  },
  {
   "cell_type": "markdown",
   "id": "c9e7e04b-277a-4343-8806-0e73243b53a1",
   "metadata": {},
   "source": [
    "- **The Python keywords `and` and `or` do not work with Boolean arrays, use `&` (and) and `|` (or) instead.**\n",
    "- **Selecting data from an array by Boolean indexing and assigning the result to a new variable always creates a copy of the data, even if the returned array is unchanged.**"
   ]
  },
  {
   "cell_type": "markdown",
   "id": "e09eb8f4-865b-4b5b-99b2-1428e33f1132",
   "metadata": {},
   "source": [
    "- Setting values with Boolean arrays works by substituting the value or values on the righthand side into the locations **where the Boolean array’s values are `True`**:"
   ]
  },
  {
   "cell_type": "code",
   "execution_count": null,
   "id": "be75558d-38c3-4ddd-ab06-cdeef3c3a69f",
   "metadata": {},
   "outputs": [],
   "source": [
    "data[data < 0]"
   ]
  },
  {
   "cell_type": "code",
   "execution_count": null,
   "id": "497808a7-4a18-4986-93cc-94dc6fbe206a",
   "metadata": {},
   "outputs": [],
   "source": [
    "data[data < 0] = 0\n",
    "data"
   ]
  },
  {
   "cell_type": "markdown",
   "id": "8838a5df-1cc8-4552-8a90-3a838be00837",
   "metadata": {},
   "source": [
    "#### Fancy Indexing"
   ]
  },
  {
   "cell_type": "markdown",
   "id": "7062e56f-091d-4708-a997-0136a29f9e70",
   "metadata": {},
   "source": [
    "- **What is fancy indexing?**\n",
    "> - Fancy indexing refers to **using arrays of indices** to access or modify elements in a NumPy array,\n",
    "> -  It allows for **advanced and non-contiguous indexing**, providing flexibility in selecting elements."
   ]
  },
  {
   "cell_type": "markdown",
   "id": "f5d50a95-eb5d-423e-92f8-cb2fa7857865",
   "metadata": {},
   "source": [
    "- Suppose we had an 8 × 4 array:"
   ]
  },
  {
   "cell_type": "code",
   "execution_count": null,
   "id": "18f0ed95-7185-47f0-80d9-ef14c9f9b7bc",
   "metadata": {},
   "outputs": [],
   "source": [
    "arr = np.zeros(shape=(8, 4))\n",
    "arr"
   ]
  },
  {
   "cell_type": "code",
   "execution_count": null,
   "id": "97368f14-53fe-46d5-bcbb-2aaa4817da14",
   "metadata": {},
   "outputs": [],
   "source": [
    "for i in range(len(arr)):\n",
    "    arr[i] = i"
   ]
  },
  {
   "cell_type": "code",
   "execution_count": null,
   "id": "dc34cb0e-9d3c-44a8-b5de-b8517efb257e",
   "metadata": {},
   "outputs": [],
   "source": [
    "arr"
   ]
  },
  {
   "cell_type": "markdown",
   "id": "79d38880-88c0-44e3-bdb3-69b55d533572",
   "metadata": {},
   "source": [
    "- To select a **subset of the rows in a particular order**, you can simply pass a list or ndarray of integers specifying the desired order:"
   ]
  },
  {
   "cell_type": "code",
   "execution_count": null,
   "id": "21bbcfc6-997e-4190-ad86-338f6c362e76",
   "metadata": {},
   "outputs": [],
   "source": [
    "arr[[4, 3, 0, 6]]"
   ]
  },
  {
   "cell_type": "markdown",
   "id": "b5003d85-0dea-4fda-aab0-1fae874baa9c",
   "metadata": {},
   "source": [
    "- **Keep in mind that fancy indexing, unlike slicing, always copies the data into a new array when assigning the result to a new variable.**"
   ]
  },
  {
   "cell_type": "markdown",
   "id": "8bfe1ed3-075f-4b4c-b354-58f19b4934d5",
   "metadata": {},
   "source": [
    "#### Reshaping arrays"
   ]
  },
  {
   "cell_type": "markdown",
   "id": "21da9e10-3c03-4e57-b1a8-72fc8774b8b2",
   "metadata": {},
   "source": [
    "- Another useful type of operation is reshaping of arrays, which can be done with the `.reshape()` method:"
   ]
  },
  {
   "cell_type": "code",
   "execution_count": null,
   "id": "9391425c-27ea-484d-9bd3-7afdac17300d",
   "metadata": {},
   "outputs": [],
   "source": [
    "arr = np.arange(1, 10)\n",
    "arr"
   ]
  },
  {
   "cell_type": "code",
   "execution_count": null,
   "id": "bf4dfb41-d7f9-4a6c-9397-26f18473f5d3",
   "metadata": {},
   "outputs": [],
   "source": [
    "reshaped_arr = arr.reshape((3, 3))\n",
    "reshaped_arr"
   ]
  },
  {
   "cell_type": "markdown",
   "id": "5d5f9faf-4ba5-48a4-bb15-7b4d9715056e",
   "metadata": {},
   "source": [
    "- Transposing is a **special form of reshaping** that similarly returns a **view on the underlying data** without copying anything.\n",
    "- Arrays have the **`.transpose()` method** and the special **`.T` attribute**."
   ]
  },
  {
   "cell_type": "code",
   "execution_count": null,
   "id": "6115d7b1-6ff4-40dd-8fdd-22d806c1247e",
   "metadata": {},
   "outputs": [],
   "source": [
    "reshaped_arr"
   ]
  },
  {
   "cell_type": "code",
   "execution_count": null,
   "id": "ccbb995d-e67e-4eeb-a660-03a7d9b294a7",
   "metadata": {},
   "outputs": [],
   "source": [
    "reshaped_arr.T"
   ]
  },
  {
   "cell_type": "markdown",
   "id": "79a0726e-21a6-4b84-a6e5-fe906c227acb",
   "metadata": {},
   "source": [
    "### Working with NumPy Arrays"
   ]
  },
  {
   "cell_type": "markdown",
   "id": "673bc821-3e4d-470b-8791-37f069eee535",
   "metadata": {},
   "source": [
    "#### Universal Functions"
   ]
  },
  {
   "cell_type": "markdown",
   "id": "cf20886f-db4e-459b-86fa-9a85b20ff8d4",
   "metadata": {},
   "source": [
    "- A universal function, or **ufunc**, is a **function that performs element-wise operations on data in ndarrays**, this is called **vectorizaion**.\n",
    "- **Rules of vectorization:**\n",
    "> - Arrays must be of **equal-size**,\n",
    "> - Operations are applied  **element-wise**."
   ]
  },
  {
   "cell_type": "code",
   "execution_count": null,
   "id": "97b46674-a265-4468-a4e9-2bcaa7ac3558",
   "metadata": {},
   "outputs": [],
   "source": [
    "arr1 = np.array([[1., 2., 3.], [4., 5., 6.]])\n",
    "arr1"
   ]
  },
  {
   "cell_type": "code",
   "execution_count": null,
   "id": "e30ba4df-aca4-444a-b5d9-7169d0f7066d",
   "metadata": {},
   "outputs": [],
   "source": [
    "arr1 + arr1"
   ]
  },
  {
   "cell_type": "code",
   "execution_count": null,
   "id": "02df879b-6eeb-4253-ab4a-61a1e1053153",
   "metadata": {},
   "outputs": [],
   "source": [
    "arr2 = arr1.T\n",
    "arr2"
   ]
  },
  {
   "cell_type": "code",
   "execution_count": null,
   "id": "da92af84-5451-4fd3-8dbc-55e134495b60",
   "metadata": {},
   "outputs": [],
   "source": [
    "arr1 + arr2"
   ]
  },
  {
   "cell_type": "code",
   "execution_count": null,
   "id": "663b2997-ee9d-4cb1-a21c-2e19b7287698",
   "metadata": {},
   "outputs": [],
   "source": [
    "arr2 = np.array([1, 1, 1])\n",
    "arr2"
   ]
  },
  {
   "cell_type": "code",
   "execution_count": null,
   "id": "d109060d-0d6b-4d39-a181-f35ceee4abac",
   "metadata": {},
   "outputs": [],
   "source": [
    "arr1 + arr2"
   ]
  },
  {
   "cell_type": "markdown",
   "id": "f67308b4-1737-444d-bf5c-bcd91f5cb0c1",
   "metadata": {},
   "source": [
    "- **Broadcasting extends the concept of vectorization to arrays of different shapes**, allowing them to be used together in operations.\r\n",
    "- **Rules of broadcasting:**\r\n",
    "> - If the **two arrays differ in their number of dimensions**, the shape of the one with fewer dimensions is padded with ones on its leading (left) side,\r\n",
    "> - If the **shape of the two arrays does not match in any dimension**, the array with shape equal to 1 in that dimension is stretched to match the other shape,\r\n",
    "> - If in any dimension **the sizes disagree and neither is equal to 1**, an error is raised."
   ]
  },
  {
   "cell_type": "code",
   "execution_count": null,
   "id": "ed325679-130b-49e2-891a-74d0cf75cb4a",
   "metadata": {},
   "outputs": [],
   "source": [
    "arr1 = np.arange(3)\n",
    "arr1"
   ]
  },
  {
   "cell_type": "code",
   "execution_count": null,
   "id": "b023fd10-ae4b-4dfe-be76-d82655c3803a",
   "metadata": {},
   "outputs": [],
   "source": [
    "arr1 + 5"
   ]
  },
  {
   "attachments": {
    "1fe0145c-72c5-4c0f-890e-c41f6069c799.png": {
     "image/png": "[encoded data removed]"
    }
   },
   "cell_type": "markdown",
   "id": "b0c45e3f-dc3c-4cc3-8a84-284261630ebd",
   "metadata": {},
   "source": [
    "![image.png](attachment:1fe0145c-72c5-4c0f-890e-c41f6069c799.png)"
   ]
  },
  {
   "cell_type": "code",
   "execution_count": null,
   "id": "c4bd2903-9d9f-4202-a5c8-cc80cb8aadf8",
   "metadata": {},
   "outputs": [],
   "source": [
    "arr2 = np.ones(shape=(3, 3))\n",
    "arr2"
   ]
  },
  {
   "cell_type": "code",
   "execution_count": null,
   "id": "41ceee0e-509c-4f7d-8be6-ce6049e20266",
   "metadata": {},
   "outputs": [],
   "source": [
    "arr2 + arr1"
   ]
  },
  {
   "attachments": {
    "fd864918-5bc1-4082-bd92-99f303b4897c.png": {
     "image/png": "[encoded data removed]"
    }
   },
   "cell_type": "markdown",
   "id": "aac44f2b-d117-46c9-aa33-dfd82bcf9215",
   "metadata": {},
   "source": [
    "![image.png](attachment:fd864918-5bc1-4082-bd92-99f303b4897c.png)"
   ]
  },
  {
   "cell_type": "code",
   "execution_count": null,
   "id": "f5b47f44-fd6f-4351-8f30-2398a32998d1",
   "metadata": {},
   "outputs": [],
   "source": [
    "arr3 = arr1.reshape((3, 1))\n",
    "arr3"
   ]
  },
  {
   "cell_type": "code",
   "execution_count": null,
   "id": "0456f8cd-76ff-44d8-b98c-1ba24f21176a",
   "metadata": {},
   "outputs": [],
   "source": [
    "arr3 + arr1"
   ]
  },
  {
   "attachments": {
    "accb099f-3855-4f1b-99e6-3f19db703ef3.png": {
     "image/png": "[encoded data removed]"
    }
   },
   "cell_type": "markdown",
   "id": "efb277f3-4b32-4af9-adff-d1b4b1114a20",
   "metadata": {},
   "source": [
    "![image.png](attachment:accb099f-3855-4f1b-99e6-3f19db703ef3.png)"
   ]
  },
  {
   "cell_type": "markdown",
   "id": "9f03af26-c923-47df-85b1-8675d02edc05",
   "metadata": {},
   "source": [
    "- Some **binary unfuncs**:"
   ]
  },
  {
   "attachments": {
    "22e97f35-190d-45db-bfb3-be82ddb9e0a1.png": {
     "image/png": "[encoded data removed]"
    }
   },
   "cell_type": "markdown",
   "id": "c7e75dc9-71d0-401d-9015-d817819a09fe",
   "metadata": {},
   "source": [
    "![image.png](attachment:22e97f35-190d-45db-bfb3-be82ddb9e0a1.png)"
   ]
  },
  {
   "cell_type": "markdown",
   "id": "7bdc5769-3b57-4613-be37-d07de0e3caca",
   "metadata": {},
   "source": [
    "#### Arithmetic with NumPy Arrays"
   ]
  },
  {
   "cell_type": "markdown",
   "id": "7e935942-7e70-4dc8-bf43-0d41715d2be5",
   "metadata": {},
   "source": [
    "- NumPy enables efficient and concise arithmetic operations on arrays, **both element-wise and using broadcasting**.\n",
    "- NumPy’s ufuncs feel very natural to use because they **make use of Python’s native arithmetic operators**, the standard addition, subtraction, multiplication, and division can all be used:"
   ]
  },
  {
   "cell_type": "code",
   "execution_count": null,
   "id": "1d58516c-d659-4e9c-8a15-6b58cdd5c903",
   "metadata": {},
   "outputs": [],
   "source": [
    "arr = np.arange(1, 7).reshape((2, 3))\n",
    "arr"
   ]
  },
  {
   "cell_type": "code",
   "execution_count": null,
   "id": "8fc85809-0eda-4d4e-8dca-378cb85a4ea8",
   "metadata": {},
   "outputs": [],
   "source": [
    "np.add(arr, 1)"
   ]
  },
  {
   "cell_type": "code",
   "execution_count": null,
   "id": "3a724337-0889-413b-a61a-882e0f407ed4",
   "metadata": {},
   "outputs": [],
   "source": [
    "arr + 1"
   ]
  },
  {
   "cell_type": "code",
   "execution_count": null,
   "id": "43902968-5d3d-4991-99fe-5aec2287eba2",
   "metadata": {},
   "outputs": [],
   "source": [
    "arr - 2"
   ]
  },
  {
   "cell_type": "code",
   "execution_count": null,
   "id": "607f8001-9d22-4d6b-b060-7b1136a66c05",
   "metadata": {},
   "outputs": [],
   "source": [
    "arr * 2"
   ]
  },
  {
   "cell_type": "code",
   "execution_count": null,
   "id": "ca1484ba-96ac-4b5a-8b09-1b03bbbf88a7",
   "metadata": {},
   "outputs": [],
   "source": [
    "arr / 2"
   ]
  },
  {
   "cell_type": "code",
   "execution_count": null,
   "id": "81a5f7fe-b5f8-4b8c-9e27-f0c799a77158",
   "metadata": {},
   "outputs": [],
   "source": [
    "arr // 2"
   ]
  },
  {
   "cell_type": "code",
   "execution_count": null,
   "id": "11128a27-259a-4223-9d98-4204748631e7",
   "metadata": {},
   "outputs": [],
   "source": [
    "arr % 2"
   ]
  },
  {
   "cell_type": "code",
   "execution_count": null,
   "id": "e898bcb2-79f8-4758-8ad4-be952768ca12",
   "metadata": {},
   "outputs": [],
   "source": [
    "arr ** 2"
   ]
  },
  {
   "cell_type": "markdown",
   "id": "d9357d8b-742b-429a-9159-fa84647beb0d",
   "metadata": {},
   "source": [
    "- Multiplying two two-dimensional arrays with `*` is an **element-wise product**, while **matrix multiplication** require using another operator `@`:"
   ]
  },
  {
   "cell_type": "code",
   "execution_count": null,
   "id": "dcbd10df-35d4-4aa2-8cfc-4127e7cac700",
   "metadata": {},
   "outputs": [],
   "source": [
    "arr1 = np.arange(1, 4).reshape((1, 3))\n",
    "arr1"
   ]
  },
  {
   "cell_type": "code",
   "execution_count": null,
   "id": "1816abbf-e43e-4b39-930d-76ef3e19cf03",
   "metadata": {},
   "outputs": [],
   "source": [
    "arr2 = np.arange(1, 7).reshape((3, 2))\n",
    "arr2"
   ]
  },
  {
   "cell_type": "code",
   "execution_count": null,
   "id": "b5006573-e68c-4b2c-94c9-658843f3dbf3",
   "metadata": {},
   "outputs": [],
   "source": [
    "arr1 @ arr2"
   ]
  },
  {
   "cell_type": "markdown",
   "id": "7ab9cc18-89b2-4f3d-a74d-eea45fc3b469",
   "metadata": {},
   "source": [
    "- All of these arithmetic operations are **simply convenient wrappers around the ufuncs built into NumPy**. "
   ]
  },
  {
   "cell_type": "markdown",
   "id": "1243042c-665d-4147-bd64-66a28a5977b9",
   "metadata": {},
   "source": [
    "#### Aggregations"
   ]
  },
  {
   "cell_type": "markdown",
   "id": "469e8b40-a3ae-4833-ad88-bc3c573d8c5f",
   "metadata": {},
   "source": [
    "- Summing the values in an array:"
   ]
  },
  {
   "cell_type": "code",
   "execution_count": null,
   "id": "25f03da0-fd53-4d14-a91a-c59cd3ed4076",
   "metadata": {},
   "outputs": [],
   "source": [
    "arr = np.arange(1, 10).reshape((3, 3))\n",
    "arr"
   ]
  },
  {
   "cell_type": "code",
   "execution_count": null,
   "id": "54c06a57-1ad6-4e43-998c-f1f948df3049",
   "metadata": {},
   "outputs": [],
   "source": [
    "np.sum(arr)"
   ]
  },
  {
   "cell_type": "code",
   "execution_count": null,
   "id": "3b1a589c-6c9b-4d6e-82dc-9b8af14ebfc0",
   "metadata": {},
   "outputs": [],
   "source": [
    "np.sum(arr, axis=0)"
   ]
  },
  {
   "cell_type": "code",
   "execution_count": null,
   "id": "38a7c487-3e7a-4b23-8ea4-681f526f3593",
   "metadata": {},
   "outputs": [],
   "source": [
    "np.sum(arr, axis=1)"
   ]
  },
  {
   "cell_type": "markdown",
   "id": "06202d1a-8901-4962-a76e-e6fbeac611f0",
   "metadata": {},
   "source": [
    "- Minimum and maximum:"
   ]
  },
  {
   "cell_type": "code",
   "execution_count": null,
   "id": "c6b31c6b-323a-4cf0-958f-6ebcec7b90eb",
   "metadata": {},
   "outputs": [],
   "source": [
    "arr"
   ]
  },
  {
   "cell_type": "code",
   "execution_count": null,
   "id": "39f323bf-0202-493d-84d0-4d790b932a57",
   "metadata": {},
   "outputs": [],
   "source": [
    "np.max(arr)"
   ]
  },
  {
   "cell_type": "code",
   "execution_count": null,
   "id": "e29ca909-fef9-43e6-add1-f4c2953f7ee0",
   "metadata": {},
   "outputs": [],
   "source": [
    "np.min(arr, axis=0)"
   ]
  },
  {
   "cell_type": "code",
   "execution_count": null,
   "id": "818e3b85-9076-4163-821c-824c46586b00",
   "metadata": {},
   "outputs": [],
   "source": [
    "np.min(arr, axis=1)"
   ]
  },
  {
   "cell_type": "markdown",
   "id": "03279e1a-9555-4cd5-9f1f-33ac378e0556",
   "metadata": {},
   "source": [
    "- Mean, variance and standard deviation:"
   ]
  },
  {
   "cell_type": "code",
   "execution_count": null,
   "id": "8813ac0f-a782-471c-b85b-74498115fb70",
   "metadata": {},
   "outputs": [],
   "source": [
    "arr"
   ]
  },
  {
   "cell_type": "code",
   "execution_count": null,
   "id": "b47fc385-ff4c-4f9c-9fc7-923567a179c4",
   "metadata": {},
   "outputs": [],
   "source": [
    "np.mean(arr)"
   ]
  },
  {
   "cell_type": "code",
   "execution_count": null,
   "id": "8d8055b8-6871-44fd-b855-46c6d638cd6d",
   "metadata": {},
   "outputs": [],
   "source": [
    "np.var(arr)"
   ]
  },
  {
   "cell_type": "code",
   "execution_count": null,
   "id": "c0177d44-062d-4e6c-972a-58e1f97cb0f9",
   "metadata": {},
   "outputs": [],
   "source": [
    "np.std(arr)"
   ]
  },
  {
   "cell_type": "code",
   "execution_count": null,
   "id": "88d9446d-c530-44b6-81fb-b8989c4cc009",
   "metadata": {},
   "outputs": [],
   "source": [
    "np.std(arr, ddof=1)"
   ]
  },
  {
   "cell_type": "code",
   "execution_count": null,
   "id": "dd293f61-4b09-4311-b8d0-aaa8a796d870",
   "metadata": {},
   "outputs": [],
   "source": []
  }
 ],
 "metadata": {
  "kernelspec": {
   "display_name": "Data-Playground",
   "language": "python",
   "name": "data-playground"
  },
  "language_info": {
   "codemirror_mode": {
    "name": "ipython",
    "version": 3
   },
   "file_extension": ".py",
   "mimetype": "text/x-python",
   "name": "python",
   "nbconvert_exporter": "python",
   "pygments_lexer": "ipython3",
   "version": "3.11.6"
  }
 },
 "nbformat": 4,
 "nbformat_minor": 5
}
